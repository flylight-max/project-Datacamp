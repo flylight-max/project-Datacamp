{
 "cells": [
  {
   "cell_type": "code",
   "execution_count": 1,
   "id": "d78157fe-9393-44b7-94e1-3f31ad65a9c5",
   "metadata": {},
   "outputs": [],
   "source": [
    "#all the necessary packages\n",
    "import numpy as np\n",
    "import matplotlib.pyplot as plt\n",
    "import seaborn as sns\n",
    "import scipy.stats as stats\n",
    "import pandas as pd\n",
    "import statsmodels.formula.api as statsmod"
   ]
  },
  {
   "cell_type": "code",
   "execution_count": 2,
   "id": "db253b4d-5b98-4de5-b8b1-b58f56e1da98",
   "metadata": {},
   "outputs": [],
   "source": [
    "car_sales = pd.read_csv(\"toyota.csv\")"
   ]
  },
  {
   "cell_type": "code",
   "execution_count": 3,
   "id": "bb7faa65-4db4-4878-8704-657edd1e86c7",
   "metadata": {},
   "outputs": [
    {
     "name": "stdout",
     "output_type": "stream",
     "text": [
      "<class 'pandas.core.frame.DataFrame'>\n",
      "RangeIndex: 6738 entries, 0 to 6737\n",
      "Data columns (total 9 columns):\n",
      " #   Column        Non-Null Count  Dtype  \n",
      "---  ------        --------------  -----  \n",
      " 0   model         6738 non-null   object \n",
      " 1   year          6738 non-null   int64  \n",
      " 2   price         6738 non-null   int64  \n",
      " 3   transmission  6738 non-null   object \n",
      " 4   mileage       6738 non-null   int64  \n",
      " 5   fuelType      6738 non-null   object \n",
      " 6   tax           6738 non-null   int64  \n",
      " 7   mpg           6738 non-null   float64\n",
      " 8   engineSize    6738 non-null   float64\n",
      "dtypes: float64(2), int64(4), object(3)\n",
      "memory usage: 473.9+ KB\n",
      "None\n"
     ]
    }
   ],
   "source": [
    "print(car_sales.info())"
   ]
  },
  {
   "cell_type": "markdown",
   "id": "9756756b",
   "metadata": {},
   "source": [
    "# **Data validation**\n",
    "\n",
    "I have received this dataset: 6738 cars sold in the past 6 months. Electric cars do not pay road tax. There are not apparent missing data in this dataset. I'm switching the 2 columns into categorical to gain some space and will explore what information I can gather from this dataset.\n",
    "\n",
    "  Column    |    Non-Null Count | Dtype  \n",
    "  ------    |    -------------- |   -----  \n",
    "  model  |    6738 non-null  |  object \n",
    "  year   |    6738 non-null  |  int64  \n",
    "  price  |    6738 non-null  |  int64  \n",
    "  transmission | 6738 non-null |  object \n",
    "  mileage |   6738 non-null | int64  \n",
    "  fuelType |  6738 non-null  |  object \n",
    "  tax    |    6738 non-null  |  int64  \n",
    "  mpg    |    6738 non-null  |  float64\n",
    "  engineSize  |  6738 non-null  | float64\n",
    "\n",
    "## **Columns \"model\" and \"fuelType**\n",
    "\n",
    "Models : ' Auris', ' Avensis', ' Aygo', ' C-HR', ' Camry', ' Corolla', ' GT86',\n",
    "       ' Hilux', ' IQ', ' Land Cruiser', ' PROACE VERSO', ' Prius', ' RAV4',\n",
    "       ' Supra', ' Urban Cruiser', ' Verso', ' Verso-S', ' Yaris'\n",
    "\n",
    "Fuel types : 'Diesel', 'Hybrid', 'Other', 'Petrol'\n",
    "\n",
    "I made a table crosstab to see the type of fuel each of our models offer.\n",
    "\n",
    "Model       |   Diesel | Hybrid | Other | Petrol\n",
    "--------    |  ------- | ------ | ----- | -----                                                         \n",
    "Auris       |       42 |    498 |     1 |    171\n",
    "Avensis     |       76 |      0 |     0 |     39\n",
    "Aygo        |        0 |      0 |    59 |   1902\n",
    "C-HR        |        0 |    352 |     7 |    120\n",
    "Camry       |        0 |     11 |     0 |      0\n",
    "Corolla     |        1 |    181 |     2 |     83\n",
    "GT86        |        0 |      0 |     0 |     73\n",
    "Hilux       |       86 |      0 |     0 |      0\n",
    "IQ          |        0 |      0 |     0 |      8\n",
    "Land Cruiser|       51 |      0 |     0 |      0\n",
    "PROACE VERSO |      15 |      0 |     0 |      0\n",
    "Prius       |        0 |    214 |    18 |      0\n",
    "RAV4        |      180 |    230 |     5 |     58\n",
    "Supra       |        0 |      0 |     1 |     11\n",
    "Urban Cruiser |      1 |      0 |     0 |      3\n",
    "Verso       |       29 |      0 |     2 |     83\n",
    "Verso-S     |        0 |      0 |     0 |      3\n",
    "Yaris       |       22 |    557 |    10 |   1533\n",
    "\n",
    "\n",
    "3 models were only diesel: Hilux, Land Cruiser, PROACE VERSO"
   ]
  },
  {
   "cell_type": "code",
   "execution_count": 10,
   "id": "dca6ee7c",
   "metadata": {},
   "outputs": [],
   "source": [
    "car_sales[[\"model\",\"fuelType\",\"transmission\"]] = car_sales[[\"model\",\"fuelType\",\"transmission\"]].astype(\"category\")\n",
    "models = car_sales[\"model\"].cat.categories\n",
    "fuel_types = car_sales[\"fuelType\"].cat.categories\n",
    "nb_fuelType_per_model = pd.crosstab(car_sales[\"model\"], car_sales[\"fuelType\"])"
   ]
  },
  {
   "cell_type": "code",
   "execution_count": 5,
   "id": "a2809941-ec21-4d66-8256-277418a553b4",
   "metadata": {},
   "outputs": [
    {
     "name": "stdout",
     "output_type": "stream",
     "text": [
      "Index(['Diesel', 'Hybrid', 'Other', 'Petrol'], dtype='object')\n"
     ]
    }
   ],
   "source": [
    "car_sales[[\"fuelType\", \"model\", \"transmission\"]] = car_sales[[\"fuelType\", \"model\", \"transmission\"]].astype(\"category\")\n",
    "print(car_sales[\"fuelType\"].cat.categories)"
   ]
  },
  {
   "cell_type": "code",
   "execution_count": 6,
   "id": "9efc5a74-011d-4467-bd8e-a7dcce1c1996",
   "metadata": {},
   "outputs": [
    {
     "name": "stdout",
     "output_type": "stream",
     "text": [
      "fuelType\n",
      "Petrol    4087\n",
      "Hybrid    2043\n",
      "Diesel     503\n",
      "Other      105\n",
      "Name: count, dtype: int64\n"
     ]
    }
   ],
   "source": [
    "print(car_sales[\"fuelType\"].value_counts())"
   ]
  },
  {
   "cell_type": "markdown",
   "id": "5e18b0ec",
   "metadata": {},
   "source": [
    "## **Column \"year\"**\n",
    "\n"
   ]
  },
  {
   "cell_type": "code",
   "execution_count": 24,
   "id": "fa047e71",
   "metadata": {},
   "outputs": [
    {
     "data": {
      "image/png": "[encoded data removed]",
      "text/plain": [
       "<Figure size 640x480 with 1 Axes>"
      ]
     },
     "metadata": {},
     "output_type": "display_data"
    },
    {
     "name": "stdout",
     "output_type": "stream",
     "text": [
      "2021.0\n",
      "2013.0\n",
      "[1998, 1]\n",
      "[2020, 128]\n"
     ]
    }
   ],
   "source": [
    "#year\n",
    "sns.histplot(car_sales[\"year\"], bins=20)\n",
    "plt.show()\n",
    "\n",
    "#outliers\n",
    "\n",
    "def outliers(data,column) :\n",
    "    summary_stat = data[column].describe()\n",
    "    IQR = summary_stat[\"75%\"] - summary_stat[\"25%\"]\n",
    "    upper = summary_stat[\"75%\"] + 1.5*IQR\n",
    "    lower = summary_stat[\"25%\"] - 1.5*IQR\n",
    "    return upper , lower\n",
    "\n",
    "upper_year, lower_year = outliers(car_sales,\"year\")\n",
    "print(upper_year)\n",
    "print(lower_year)\n",
    "\n",
    "#Function to quickly find the cars that have minimum and maximum cell values\n",
    "def min_max(data,column):\n",
    "    minimum = []\n",
    "    min = data[column].min()\n",
    "    min_l = len(data[data[column] == min])\n",
    "    minimum.append(min)\n",
    "    minimum.append(min_l)\n",
    "    maximum = []\n",
    "    max = data[column].max()\n",
    "    max_l = len(data[data[column] == max])\n",
    "    maximum.append(max)\n",
    "    maximum.append(max_l)\n",
    "    return minimum, maximum\n",
    "\n",
    "min_year , max_year = min_max(car_sales, \"year\")\n",
    "print(min_year)\n",
    "print(max_year)"
   ]
  },
  {
   "cell_type": "markdown",
   "id": "0d76b9c6",
   "metadata": {},
   "source": [
    "We have a left skewd distribution. with one very old car. Let's the attributs of this old car."
   ]
  },
  {
   "cell_type": "code",
   "execution_count": 25,
   "id": "e2275896",
   "metadata": {},
   "outputs": [
    {
     "name": "stdout",
     "output_type": "stream",
     "text": [
      "              model  year  price transmission  mileage fuelType  tax   mpg  \\\n",
      "6694   Land Cruiser  1998  19990       Manual   100000   Diesel  265  23.9   \n",
      "\n",
      "      engineSize  \n",
      "6694         4.2  \n"
     ]
    }
   ],
   "source": [
    "oldest_car = car_sales[car_sales[\"year\"] == min_year[0]]\n",
    "print(oldest_car)"
   ]
  },
  {
   "cell_type": "markdown",
   "id": "339902eb",
   "metadata": {},
   "source": [
    "## ** The \"price\" column**\n",
    "\n",
    "Interestingly, the oldest car wasn't the cheapest. It was actually sold at a price higher than both the median and the mean. What were therefore the arguments to sale this car at this price? This is a question we need to consider in our analysis.\n",
    "\n",
    "The mean price is higher than the median suggesting a heaviest influence of expensive car. Let's the attributes of the most expensive car."
   ]
  },
  {
   "cell_type": "code",
   "execution_count": 28,
   "id": "1989e84b",
   "metadata": {},
   "outputs": [
    {
     "data": {
      "image/png": "[encoded data removed]",
      "text/plain": [
       "<Figure size 640x480 with 1 Axes>"
      ]
     },
     "metadata": {},
     "output_type": "display_data"
    },
    {
     "name": "stdout",
     "output_type": "stream",
     "text": [
      "count     6738.000000\n",
      "mean     12522.391066\n",
      "std       6345.017587\n",
      "min        850.000000\n",
      "25%       8290.000000\n",
      "50%      10795.000000\n",
      "75%      14995.000000\n",
      "max      59995.000000\n",
      "Name: price, dtype: float64\n"
     ]
    }
   ],
   "source": [
    "#visu \"price\"\n",
    "sns.histplot(car_sales[\"price\"], bins=20)\n",
    "plt.show()\n",
    "\n",
    "#description\n",
    "print(car_sales[\"price\"].describe())"
   ]
  },
  {
   "cell_type": "code",
   "execution_count": 30,
   "id": "d17baf03",
   "metadata": {},
   "outputs": [
    {
     "name": "stdout",
     "output_type": "stream",
     "text": [
      "       model  year  price transmission  mileage fuelType  tax   mpg  \\\n",
      "6711   Supra  2019  59995    Automatic     9909    Other  150  34.5   \n",
      "\n",
      "      engineSize  \n",
      "6711         3.0  \n",
      "         model  year  price transmission  mileage fuelType  tax   mpg  \\\n",
      "6427   Avensis  2003    850       Manual   167054   Diesel  205  48.7   \n",
      "\n",
      "      engineSize  \n",
      "6427         2.0  \n"
     ]
    }
   ],
   "source": [
    "min_price , max_price = min_max(car_sales,\"price\")\n",
    "cheapest_car = car_sales[car_sales[\"price\"] == min_price[0]]\n",
    "most_exp_car = car_sales[car_sales[\"price\"] == max_price[0]]\n",
    "\n",
    "print(most_exp_car)\n",
    "print(cheapest_car)"
   ]
  },
  {
   "cell_type": "markdown",
   "id": "7034e90d",
   "metadata": {},
   "source": [
    "The most expensive car in our dataset is a Toyota Supra model 2019. It's a sport car. It consumes more fuel than our old Land cruiser. It's an automatic which is a bit weird. One would think that you buy a sport car to enjoy riding it and therefore you would prefer a manual. \n",
    "The cheapest car is a Toyota Avensis (850GBP) model 2003. I'm not an expert, but I believe this is way too cheap for this model. Let's see if we can find other Avensis."
   ]
  },
  {
   "cell_type": "code",
   "execution_count": 37,
   "id": "5520f62d",
   "metadata": {},
   "outputs": [
    {
     "name": "stdout",
     "output_type": "stream",
     "text": [
      "115\n"
     ]
    }
   ],
   "source": [
    "car_sales[\"model\"] = car_sales[\"model\"].str.strip()\n",
    "Avensis_cars = car_sales[car_sales[\"model\"] == \"Avensis\"]\n",
    "print(len(Avensis_cars))"
   ]
  },
  {
   "cell_type": "markdown",
   "id": "e0d0dee7",
   "metadata": {},
   "source": [
    "We only have one Avensis model 2003. However, we have sold 115 Avensis cars enough to see the median and average price."
   ]
  },
  {
   "cell_type": "code",
   "execution_count": 40,
   "id": "72a339f6",
   "metadata": {},
   "outputs": [
    {
     "name": "stdout",
     "output_type": "stream",
     "text": [
      "count      115.000000\n",
      "mean      9884.356522\n",
      "std       3376.061580\n",
      "min        850.000000\n",
      "25%       7950.000000\n",
      "50%      10275.000000\n",
      "75%      12396.500000\n",
      "max      16495.000000\n",
      "Name: price, dtype: float64\n"
     ]
    },
    {
     "data": {
      "image/png": "[encoded data removed]",
      "text/plain": [
       "<Figure size 640x480 with 1 Axes>"
      ]
     },
     "metadata": {},
     "output_type": "display_data"
    },
    {
     "name": "stdout",
     "output_type": "stream",
     "text": [
      "fuelType\n",
      "Diesel     9775.0\n",
      "Hybrid        NaN\n",
      "Other         NaN\n",
      "Petrol    12498.0\n",
      "Name: price, dtype: float64\n"
     ]
    },
    {
     "name": "stderr",
     "output_type": "stream",
     "text": [
      "C:\\Users\\Angelique\\AppData\\Local\\Temp\\ipykernel_1772\\1044094373.py:7: FutureWarning: The default of observed=False is deprecated and will be changed to True in a future version of pandas. Pass observed=False to retain current behavior or observed=True to adopt the future default and silence this warning.\n",
      "  print(Avensis_cars.groupby(\"fuelType\")[\"price\"].median())\n"
     ]
    }
   ],
   "source": [
    "print(Avensis_cars[\"price\"].describe())\n",
    "\n",
    "#visu\n",
    "sns.histplot(Avensis_cars[\"price\"], bins=20)\n",
    "plt.show()\n",
    "\n",
    "print(Avensis_cars.groupby(\"fuelType\")[\"price\"].median())"
   ]
  },
  {
   "cell_type": "markdown",
   "id": "9ac7c93c",
   "metadata": {},
   "source": [
    "Based on the summary stat above, I'm pretty confident that a 0 is missing in our cheapest model. I will not remove this row but rather add a 0 int the price (switch from 850GBP to 8500GBP). However, I will notify the sale team in case someone sold this car to friend at this correct very cheap price."
   ]
  },
  {
   "cell_type": "code",
   "execution_count": 43,
   "id": "be086775",
   "metadata": {},
   "outputs": [
    {
     "name": "stdout",
     "output_type": "stream",
     "text": [
      "899\n"
     ]
    }
   ],
   "source": [
    "#rectifying the price of the cheapest Avensis\n",
    "car_sales[\"price\"] = car_sales[\"price\"].replace(850,8500)\n",
    "print(car_sales[\"price\"].min())\n"
   ]
  },
  {
   "cell_type": "markdown",
   "id": "942a8225",
   "metadata": {},
   "source": [
    "I have now another cheap price (this cleaning never ends :) ). Now the cheapest car was sold for 899GBP."
   ]
  },
  {
   "cell_type": "code",
   "execution_count": 11,
   "id": "fe8b025d-2937-42a4-85db-866c44d48d9b",
   "metadata": {},
   "outputs": [
    {
     "name": "stdout",
     "output_type": "stream",
     "text": [
      "0\n",
      "Index(['Automatic', 'Manual', 'Other', 'Semi-Auto'], dtype='object')\n"
     ]
    }
   ],
   "source": [
    "print(car_sales[\"transmission\"].isna().sum())\n",
    "print(car_sales[\"transmission\"].cat.categories)"
   ]
  },
  {
   "cell_type": "code",
   "execution_count": 8,
   "id": "98425858-4e98-4c3e-9bbb-de8af9c648ed",
   "metadata": {},
   "outputs": [
    {
     "name": "stdout",
     "output_type": "stream",
     "text": [
      "fuelType  transmission\n",
      "Diesel    Manual           378\n",
      "          Automatic         97\n",
      "          Semi-Auto         28\n",
      "          Other              0\n",
      "Hybrid    Automatic       2038\n",
      "          Manual             4\n",
      "          Other              1\n",
      "          Semi-Auto          0\n",
      "Other     Automatic        100\n",
      "          Manual             5\n",
      "          Other              0\n",
      "          Semi-Auto          0\n",
      "Petrol    Manual          3439\n",
      "          Automatic        422\n",
      "          Semi-Auto        226\n",
      "          Other              0\n",
      "Name: count, dtype: int64\n"
     ]
    },
    {
     "name": "stderr",
     "output_type": "stream",
     "text": [
      "C:\\Users\\Angelique\\AppData\\Local\\Temp\\ipykernel_1772\\1871893609.py:1: FutureWarning: The default of observed=False is deprecated and will be changed to True in a future version of pandas. Pass observed=False to retain current behavior or observed=True to adopt the future default and silence this warning.\n",
      "  print(car_sales.groupby(\"fuelType\")[\"transmission\"].value_counts())\n"
     ]
    }
   ],
   "source": [
    "print(car_sales.groupby(\"fuelType\")[\"transmission\"].value_counts())"
   ]
  },
  {
   "cell_type": "code",
   "execution_count": 9,
   "id": "859ef8d0-ff17-4530-9fe7-18cd4f5c9f97",
   "metadata": {},
   "outputs": [
    {
     "name": "stdout",
     "output_type": "stream",
     "text": [
      "        model  year  price transmission  mileage fuelType  tax   mpg  \\\n",
      "73    Corolla  2019  22500    Automatic     8006    Other  140  85.6   \n",
      "307   Corolla  2020  25990    Automatic     1112    Other  135  53.3   \n",
      "340      RAV4  2019  30500    Automatic    13326    Other  140  51.1   \n",
      "768      RAV4  2017  18000    Automatic    26972    Other  205  43.5   \n",
      "769      RAV4  2017  20000    Automatic     4909    Other  200  43.5   \n",
      "\n",
      "     engineSize  \n",
      "73          1.8  \n",
      "307         2.0  \n",
      "340         2.5  \n",
      "768         2.0  \n",
      "769         2.0  \n"
     ]
    }
   ],
   "source": [
    "#what I think are actually e-cars\n",
    "potential_e_cars = car_sales[(car_sales[\"fuelType\"] == \"Other\") & (car_sales[\"transmission\"] == \"Automatic\")]\n",
    "print(potential_e_cars.head())"
   ]
  },
  {
   "cell_type": "code",
   "execution_count": null,
   "id": "c93675f5-a3d1-4011-9780-09876c375901",
   "metadata": {},
   "outputs": [],
   "source": []
  }
 ],
 "metadata": {
  "kernelspec": {
   "display_name": "Essai",
   "language": "python",
   "name": "python3"
  },
  "language_info": {
   "codemirror_mode": {
    "name": "ipython",
    "version": 3
   },
   "file_extension": ".py",
   "mimetype": "text/x-python",
   "name": "python",
   "nbconvert_exporter": "python",
   "pygments_lexer": "ipython3",
   "version": "3.12.4"
  }
 },
 "nbformat": 4,
 "nbformat_minor": 5
}
