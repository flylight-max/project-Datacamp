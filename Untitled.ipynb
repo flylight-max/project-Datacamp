{
 "cells": [
  {
   "cell_type": "code",
   "execution_count": 1,
   "id": "d78157fe-9393-44b7-94e1-3f31ad65a9c5",
   "metadata": {},
   "outputs": [],
   "source": [
    "#all the necessary packages\n",
    "import numpy as np\n",
    "import matplotlib.pyplot as plt\n",
    "import seaborn as sns\n",
    "import scipy.stats as stats\n",
    "import pandas as pd\n",
    "import statsmodels.formula.api as statsmod"
   ]
  },
  {
   "cell_type": "code",
   "execution_count": 2,
   "id": "db253b4d-5b98-4de5-b8b1-b58f56e1da98",
   "metadata": {},
   "outputs": [],
   "source": [
    "car_sales = pd.read_csv(\"toyota.csv\")"
   ]
  },
  {
   "cell_type": "code",
   "execution_count": 3,
   "id": "bb7faa65-4db4-4878-8704-657edd1e86c7",
   "metadata": {},
   "outputs": [
    {
     "name": "stdout",
     "output_type": "stream",
     "text": [
      "<class 'pandas.core.frame.DataFrame'>\n",
      "RangeIndex: 6738 entries, 0 to 6737\n",
      "Data columns (total 9 columns):\n",
      " #   Column        Non-Null Count  Dtype  \n",
      "---  ------        --------------  -----  \n",
      " 0   model         6738 non-null   object \n",
      " 1   year          6738 non-null   int64  \n",
      " 2   price         6738 non-null   int64  \n",
      " 3   transmission  6738 non-null   object \n",
      " 4   mileage       6738 non-null   int64  \n",
      " 5   fuelType      6738 non-null   object \n",
      " 6   tax           6738 non-null   int64  \n",
      " 7   mpg           6738 non-null   float64\n",
      " 8   engineSize    6738 non-null   float64\n",
      "dtypes: float64(2), int64(4), object(3)\n",
      "memory usage: 473.9+ KB\n",
      "None\n"
     ]
    }
   ],
   "source": [
    "print(car_sales.info())"
   ]
  },
  {
   "cell_type": "markdown",
   "id": "9756756b",
   "metadata": {},
   "source": [
    "# **Data validation**\n",
    "## **Columns \"model\" and \"fuelType**\n",
    "\n",
    "Models : ' Auris', ' Avensis', ' Aygo', ' C-HR', ' Camry', ' Corolla', ' GT86',\n",
    "       ' Hilux', ' IQ', ' Land Cruiser', ' PROACE VERSO', ' Prius', ' RAV4',\n",
    "       ' Supra', ' Urban Cruiser', ' Verso', ' Verso-S', ' Yaris'\n",
    "\n",
    "Fuel types : 'Diesel', 'Hybrid', 'Other', 'Petrol'\n",
    "\n",
    "I made a table crosstab to see the type of fuel each of our models offer.\n",
    "\n",
    "Model       |   Diesel | Hybrid | Other | Petrol\n",
    "--------    |  ------- | ------ | ----- | -----                                                         \n",
    "Auris       |       42 |    498 |     1 |    171\n",
    "Avensis     |       76 |      0 |     0 |     39\n",
    "Aygo        |        0 |      0 |    59 |   1902\n",
    "C-HR        |        0 |    352 |     7 |    120\n",
    "Camry       |        0 |     11 |     0 |      0\n",
    "Corolla     |        1 |    181 |     2 |     83\n",
    "GT86        |        0 |      0 |     0 |     73\n",
    "Hilux       |       86 |      0 |     0 |      0\n",
    "IQ          |        0 |      0 |     0 |      8\n",
    "Land Cruiser|       51 |      0 |     0 |      0\n",
    "PROACE VERSO |      15 |      0 |     0 |      0\n",
    "Prius       |        0 |    214 |    18 |      0\n",
    "RAV4        |      180 |    230 |     5 |     58\n",
    "Supra       |        0 |      0 |     1 |     11\n",
    "Urban Cruiser |      1 |      0 |     0 |      3\n",
    "Verso       |       29 |      0 |     2 |     83\n",
    "Verso-S     |        0 |      0 |     0 |      3\n",
    "Yaris       |       22 |    557 |    10 |   1533\n",
    "\n"
   ]
  },
  {
   "cell_type": "code",
   "execution_count": 15,
   "id": "dca6ee7c",
   "metadata": {},
   "outputs": [
    {
     "name": "stdout",
     "output_type": "stream",
     "text": [
      "fuelType       Diesel  Hybrid  Other  Petrol\n",
      "model                                       \n",
      "Auris              42     498      1     171\n",
      "Avensis            76       0      0      39\n",
      "Aygo                0       0     59    1902\n",
      "C-HR                0     352      7     120\n",
      "Camry               0      11      0       0\n",
      "Corolla             1     181      2      83\n",
      "GT86                0       0      0      73\n",
      "Hilux              86       0      0       0\n",
      "IQ                  0       0      0       8\n",
      "Land Cruiser       51       0      0       0\n",
      "PROACE VERSO       15       0      0       0\n",
      "Prius               0     214     18       0\n",
      "RAV4              180     230      5      58\n",
      "Supra               0       0      1      11\n",
      "Urban Cruiser       1       0      0       3\n",
      "Verso              29       0      2      83\n",
      "Verso-S             0       0      0       3\n",
      "Yaris              22     557     10    1533\n"
     ]
    }
   ],
   "source": [
    "car_sales[[\"model\",\"fuelType\"]] = car_sales[[\"model\",\"fuelType\"]].astype(\"category\")\n",
    "models = car_sales[\"model\"].cat.categories\n",
    "fuel_types = car_sales[\"fuelType\"].cat.categories\n",
    "nb_fuelType_per_model = pd.crosstab(car_sales[\"model\"], car_sales[\"fuelType\"])\n",
    "print(nb_fuelType_per_model)"
   ]
  },
  {
   "cell_type": "code",
   "execution_count": 5,
   "id": "a2809941-ec21-4d66-8256-277418a553b4",
   "metadata": {},
   "outputs": [
    {
     "name": "stdout",
     "output_type": "stream",
     "text": [
      "Index(['Diesel', 'Hybrid', 'Other', 'Petrol'], dtype='object')\n"
     ]
    }
   ],
   "source": [
    "car_sales[[\"fuelType\", \"model\", \"transmission\"]] = car_sales[[\"fuelType\", \"model\", \"transmission\"]].astype(\"category\")\n",
    "print(car_sales[\"fuelType\"].cat.categories)"
   ]
  },
  {
   "cell_type": "code",
   "execution_count": 6,
   "id": "9efc5a74-011d-4467-bd8e-a7dcce1c1996",
   "metadata": {},
   "outputs": [
    {
     "name": "stdout",
     "output_type": "stream",
     "text": [
      "fuelType\n",
      "Petrol    4087\n",
      "Hybrid    2043\n",
      "Diesel     503\n",
      "Other      105\n",
      "Name: count, dtype: int64\n"
     ]
    }
   ],
   "source": [
    "print(car_sales[\"fuelType\"].value_counts())"
   ]
  },
  {
   "cell_type": "code",
   "execution_count": 7,
   "id": "fe8b025d-2937-42a4-85db-866c44d48d9b",
   "metadata": {},
   "outputs": [
    {
     "name": "stdout",
     "output_type": "stream",
     "text": [
      "0\n",
      "Index(['Automatic', 'Manual', 'Other', 'Semi-Auto'], dtype='object')\n"
     ]
    }
   ],
   "source": [
    "print(car_sales[\"transmission\"].isna().sum())\n",
    "print(car_sales[\"transmission\"].cat.categories)"
   ]
  },
  {
   "cell_type": "code",
   "execution_count": 8,
   "id": "98425858-4e98-4c3e-9bbb-de8af9c648ed",
   "metadata": {},
   "outputs": [
    {
     "name": "stdout",
     "output_type": "stream",
     "text": [
      "fuelType  transmission\n",
      "Diesel    Manual           378\n",
      "          Automatic         97\n",
      "          Semi-Auto         28\n",
      "          Other              0\n",
      "Hybrid    Automatic       2038\n",
      "          Manual             4\n",
      "          Other              1\n",
      "          Semi-Auto          0\n",
      "Other     Automatic        100\n",
      "          Manual             5\n",
      "          Other              0\n",
      "          Semi-Auto          0\n",
      "Petrol    Manual          3439\n",
      "          Automatic        422\n",
      "          Semi-Auto        226\n",
      "          Other              0\n",
      "Name: count, dtype: int64\n"
     ]
    },
    {
     "name": "stderr",
     "output_type": "stream",
     "text": [
      "C:\\Users\\Angelique\\AppData\\Local\\Temp\\ipykernel_12480\\1871893609.py:1: FutureWarning: The default of observed=False is deprecated and will be changed to True in a future version of pandas. Pass observed=False to retain current behavior or observed=True to adopt the future default and silence this warning.\n",
      "  print(car_sales.groupby(\"fuelType\")[\"transmission\"].value_counts())\n"
     ]
    }
   ],
   "source": [
    "print(car_sales.groupby(\"fuelType\")[\"transmission\"].value_counts())"
   ]
  },
  {
   "cell_type": "code",
   "execution_count": 9,
   "id": "859ef8d0-ff17-4530-9fe7-18cd4f5c9f97",
   "metadata": {},
   "outputs": [
    {
     "name": "stdout",
     "output_type": "stream",
     "text": [
      "        model  year  price transmission  mileage fuelType  tax   mpg  \\\n",
      "73    Corolla  2019  22500    Automatic     8006    Other  140  85.6   \n",
      "307   Corolla  2020  25990    Automatic     1112    Other  135  53.3   \n",
      "340      RAV4  2019  30500    Automatic    13326    Other  140  51.1   \n",
      "768      RAV4  2017  18000    Automatic    26972    Other  205  43.5   \n",
      "769      RAV4  2017  20000    Automatic     4909    Other  200  43.5   \n",
      "\n",
      "     engineSize  \n",
      "73          1.8  \n",
      "307         2.0  \n",
      "340         2.5  \n",
      "768         2.0  \n",
      "769         2.0  \n"
     ]
    }
   ],
   "source": [
    "#what I think are actually e-cars\n",
    "potential_e_cars = car_sales[(car_sales[\"fuelType\"] == \"Other\") & (car_sales[\"transmission\"] == \"Automatic\")]\n",
    "print(potential_e_cars.head())"
   ]
  },
  {
   "cell_type": "code",
   "execution_count": null,
   "id": "c93675f5-a3d1-4011-9780-09876c375901",
   "metadata": {},
   "outputs": [],
   "source": []
  }
 ],
 "metadata": {
  "kernelspec": {
   "display_name": "Essai",
   "language": "python",
   "name": "python3"
  },
  "language_info": {
   "codemirror_mode": {
    "name": "ipython",
    "version": 3
   },
   "file_extension": ".py",
   "mimetype": "text/x-python",
   "name": "python",
   "nbconvert_exporter": "python",
   "pygments_lexer": "ipython3",
   "version": "3.12.4"
  }
 },
 "nbformat": 4,
 "nbformat_minor": 5
}
